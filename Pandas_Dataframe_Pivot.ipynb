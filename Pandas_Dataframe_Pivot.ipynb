{
 "cells": [
  {
   "cell_type": "code",
   "execution_count": 127,
   "metadata": {},
   "outputs": [
    {
     "name": "stdout",
     "output_type": "stream",
     "text": [
      "       date      city  temperature  humidity\n",
      "0  5/1/2017  new york           65        56\n",
      "1  5/2/2017  new york           66        58\n",
      "2  5/3/2017  new york           68        60\n",
      "3  5/1/2017    mumbai           75        80\n",
      "4  5/2/2017    mumbai           78        83\n",
      "5  5/3/2017    mumbai           82        85\n",
      "6  5/1/2017   beijing           48        26\n",
      "7  5/2/2017   beijing           77        30\n",
      "8  5/3/2017   beijing           79        35\n"
     ]
    }
   ],
   "source": [
    "import pandas as pd\n",
    "df=pd.read_csv('C:\\\\ectbcsv.csv')\n",
    "print(df)"
   ]
  },
  {
   "cell_type": "code",
   "execution_count": 128,
   "metadata": {},
   "outputs": [
    {
     "name": "stdout",
     "output_type": "stream",
     "text": [
      "         temperature                 humidity                \n",
      "city         beijing mumbai new york  beijing mumbai new york\n",
      "date                                                         \n",
      "5/1/2017          48     75       65       26     80       56\n",
      "5/2/2017          77     78       66       30     83       58\n",
      "5/3/2017          79     82       68       35     85       60\n"
     ]
    }
   ],
   "source": [
    "#Change pivot\n",
    "tdf=df.pivot(index=\"date\",columns=\"city\")\n",
    "print(tdf)"
   ]
  },
  {
   "cell_type": "code",
   "execution_count": 129,
   "metadata": {},
   "outputs": [
    {
     "name": "stdout",
     "output_type": "stream",
     "text": [
      "city      beijing  mumbai  new york\n",
      "date                               \n",
      "5/1/2017       26      80        56\n",
      "5/2/2017       30      83        58\n",
      "5/3/2017       35      85        60\n"
     ]
    }
   ],
   "source": [
    "#specific column\n",
    "tdf=df.pivot(index=\"date\",columns=\"city\",values=\"humidity\")\n",
    "print(tdf)"
   ]
  },
  {
   "cell_type": "code",
   "execution_count": 130,
   "metadata": {},
   "outputs": [
    {
     "name": "stdout",
     "output_type": "stream",
     "text": [
      "         humidity                   temperature                  \n",
      "date     5/1/2017 5/2/2017 5/3/2017    5/1/2017 5/2/2017 5/3/2017\n",
      "city                                                             \n",
      "beijing        26       30       35          48       77       79\n",
      "mumbai         80       83       85          75       78       82\n",
      "new york       56       58       60          65       66       68\n"
     ]
    }
   ],
   "source": [
    "#avg of df entires\n",
    "tdf=df.pivot_table(index=\"city\",columns=\"date\")\n",
    "print(tdf)"
   ]
  },
  {
   "cell_type": "code",
   "execution_count": 131,
   "metadata": {},
   "outputs": [
    {
     "name": "stdout",
     "output_type": "stream",
     "text": [
      "         humidity                   temperature                  \n",
      "date     5/1/2017 5/2/2017 5/3/2017    5/1/2017 5/2/2017 5/3/2017\n",
      "city                                                             \n",
      "beijing        26       30       35          48       77       79\n",
      "mumbai         80       83       85          75       78       82\n",
      "new york       56       58       60          65       66       68\n"
     ]
    }
   ],
   "source": [
    "tdf=df.pivot_table(index=\"city\",columns=\"date\",aggfunc=\"sum\")\n",
    "print(tdf)"
   ]
  },
  {
   "cell_type": "code",
   "execution_count": 132,
   "metadata": {},
   "outputs": [
    {
     "name": "stdout",
     "output_type": "stream",
     "text": [
      "         humidity                              temperature                    \\\n",
      "date     5/1/2017 5/2/2017 5/3/2017        All    5/1/2017 5/2/2017 5/3/2017   \n",
      "city                                                                           \n",
      "beijing        26       30       35  30.333333          48       77       79   \n",
      "mumbai         80       83       85  82.666667          75       78       82   \n",
      "new york       56       58       60  58.000000          65       66       68   \n",
      "All            54       57       60  57.000000          62       73       76   \n",
      "\n",
      "                     \n",
      "date            All  \n",
      "city                 \n",
      "beijing   68.000000  \n",
      "mumbai    78.333333  \n",
      "new york  66.333333  \n",
      "All       70.888889  \n"
     ]
    }
   ],
   "source": [
    "#avg of each row & col value in All field\n",
    "tdf=df.pivot_table(index=\"city\",columns=\"date\",margins=True)\n",
    "print(tdf)\n"
   ]
  },
  {
   "cell_type": "code",
   "execution_count": 133,
   "metadata": {},
   "outputs": [
    {
     "name": "stdout",
     "output_type": "stream",
     "text": [
      "       date      city  temperature  humidity\n",
      "0  5/1/2017  new york           65        56\n",
      "1  5/2/2017  new york           66        58\n",
      "2  5/3/2017  new york           68        60\n",
      "3  5/1/2017    mumbai           75        80\n",
      "4  7/2/2017    mumbai           78        83\n",
      "5  7/3/2017    mumbai           82        85\n",
      "6  7/1/2017   beijing           48        26\n",
      "7  7/2/2017   beijing           77        30\n",
      "8  7/3/2017   beijing           79        35\n"
     ]
    }
   ],
   "source": [
    "df=pd.read_csv('C:\\\\ectbcsv2.csv')\n",
    "print(df)"
   ]
  },
  {
   "cell_type": "code",
   "execution_count": 138,
   "metadata": {},
   "outputs": [
    {
     "name": "stdout",
     "output_type": "stream",
     "text": [
      "             humidity                 temperature                  \n",
      "city          beijing mumbai new york     beijing mumbai   new york\n",
      "date                                                               \n",
      "2017-05-31        NaN   80.0     58.0         NaN   75.0  66.333333\n",
      "2017-07-31  30.333333   84.0      NaN        68.0   80.0        NaN\n"
     ]
    }
   ],
   "source": [
    "#avg temperature of city b/w two different dates\n",
    "df[\"date\"]=pd.to_datetime(df[\"date\"])\n",
    "d=df.pivot_table(index=pd.Grouper(freq=\"M\",key=\"date\"),columns=\"city\")\n",
    "print(d)"
   ]
  }
 ],
 "metadata": {
  "kernelspec": {
   "display_name": "Python 3",
   "language": "python",
   "name": "python3"
  },
  "language_info": {
   "codemirror_mode": {
    "name": "ipython",
    "version": 3
   },
   "file_extension": ".py",
   "mimetype": "text/x-python",
   "name": "python",
   "nbconvert_exporter": "python",
   "pygments_lexer": "ipython3",
   "version": "3.7.4"
  }
 },
 "nbformat": 4,
 "nbformat_minor": 2
}
